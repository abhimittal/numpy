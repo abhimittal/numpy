# Question 1

 a = np.random.random([10,1])
 b = np.mean(a)
 print(a)


# Question 2

 a = np.randomm.random([20,1])
 b = np.std(a)                                         #gives standard deviation 
 print(b)
 variance = b*b                                        # gives variance
 print(variance)



# Question 3


 a = np.random.random([10,20])
 b = np.random.random([20,25])
 c = a.dot(b)
 print(c)
 d = np.sum(c)
 print(d)


# Question 4


a  = np.array([[1],[2],[3],[4],[5],[6],[7],[8],[9],[10]])
 for x in a:
 x = 1/(1+exp(-x))
 print(a)
                                                                 # error is there
                                                                   exp not defined

